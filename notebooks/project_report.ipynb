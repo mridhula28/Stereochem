{
 "cells": [
  {
   "cell_type": "markdown",
   "id": "03207241-b667-487b-ae58-c0f51d3ea8ac",
   "metadata": {},
   "source": [
    "# 1. Introduction:\n",
    "\n",
    "## 1.1 Research Topic\n",
    "\n",
    "",
    "\n",
    "## 1.2 Settings\n",
    "\n",
    "...",
    "\n",
    "## 1.3 Problem\n",
    "\n",
    "The aim of this project is first get acquainted with stereochemistry.
explain the branch of stereochemistry, its importance, https://accesspharmacy.mhmedical.com/content.aspx?sectionid=116669137&bookid=1731#:~:text=Stereochemistry%20is%20of%20critical%20importance,it%20encounters%20in%20the%20body.
",
    "\n",
    "## 1.4 Solution\n",
    "\n",
    "This project proposes ..."
   ]
  }
 ],
 "metadata": {
  "kernelspec": {
   "display_name": "Python 3",
   "language": "python",
   "name": "python3"
  },
  "language_info": {
   "name": "python",
   "version": "3.9.0"
  }
 },
 "nbformat": 4,
 "nbformat_minor": 5
}


