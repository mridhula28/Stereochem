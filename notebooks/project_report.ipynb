{
 "cells": [
  {
   "cell_type": "markdown",
   "id": "03207241-b667-487b-ae58-c0f51d3ea8ac",
   "metadata": {},
   "source": [
    "# 1. Introduction:\n",
    "\n",
    "## 1.1 Research Topic\n",
    "\n",
    "Stereochemistry is an important issue in any synthesis. Indeed, the shape of a molecule is an important factor in determining how it interacts with the various biological molecules (enzymes, receptors, etc.). Stereochemistry is a branch of chemistry that studies the spatial arrangement of atoms within molecules and how this arrangement affects their properties and behavior. The study of stereochemistry focuses on the relationships between stereoisomers, Specifically, stereochemistry is concerned with stereoisomers—molecules that share the same molecular formula and connectivity of atoms but differ in the spatial orientation of those atoms. Understanding these differences is essential for predicting and controlling molecular function, especially in biological systems. ",
    "\n",
    "## 1.2 Settings\n",
    "\n",
    "...",
    "\n",
    "## 1.3 Problem\n",
    "\n",
    "The aim of this project is first get acquainted with stereochemistry. https://accesspharmacy.mhmedical.com/content.aspx?sectionid=116669137&bookid=1731#:~:text=Stereochemistry%20is%20of%20critical%20importance,it%20encounters%20in%20the%20body.",
    "\n",
    "## 1.4 Solution\n",
    "\n",
    "This project proposes ..."
   ]
  }
 ],
 "metadata": {
  "kernelspec": {
   "display_name": "Python 3",
   "language": "python",
   "name": "python3"
  },
  "language_info": {
   "name": "python",
   "version": "3.9.0"
  }
 },
 "nbformat": 4,
 "nbformat_minor": 5
}


