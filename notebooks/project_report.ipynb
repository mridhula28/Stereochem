{
 "cells": [
  {
   "cell_type": "markdown",
   "id": "03207241-b667-487b-ae58-c0f51d3ea8ac",
   "metadata": {},
   "source": [
    "# 1. Introduction:\n",
    "\n",
    "## 1.1 Research Topic\n",
    "\n",
    "The aim of this project is ...",
    "\n",
    "## 1.2 Settings\n",
    "\n",
    "...",
    "\n",
    "## 1.3 Problem\n",
    "\n",
    "...",
    "\n",
    "## 1.4 Solution\n",
    "\n",
    "This project proposes ..."
   ]
  }
 ],
 "metadata": {
  "kernelspec": {
   "display_name": "Python 3",
   "language": "python",
   "name": "python3"
  },
  "language_info": {
   "name": "python",
   "version": "3.9.0"
  }
 },
 "nbformat": 4,
 "nbformat_minor": 5
}


